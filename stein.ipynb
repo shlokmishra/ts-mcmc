{
 "cells": [
  {
   "cell_type": "code",
   "execution_count": 1,
   "metadata": {},
   "outputs": [
    {
     "name": "stdout",
     "output_type": "stream",
     "text": [
      "Defaulting to user installation because normal site-packages is not writeable\n",
      "Collecting git+https://github.com/wilson-ye-chen/stein_thinning\n",
      "  Cloning https://github.com/wilson-ye-chen/stein_thinning to /tmp/pip-req-build-iqqj73bf\n",
      "  Running command git clone --filter=blob:none --quiet https://github.com/wilson-ye-chen/stein_thinning /tmp/pip-req-build-iqqj73bf\n",
      "  Resolved https://github.com/wilson-ye-chen/stein_thinning to commit e197e413b5548f5b11653f78c6a4e8ba340e0849\n",
      "  Preparing metadata (setup.py) ... \u001b[?25ldone\n",
      "\u001b[?25hRequirement already satisfied: numpy in /usr/lib/python3/dist-packages (from stein_thinning==1.1) (1.24.2)\n",
      "Requirement already satisfied: scipy in /usr/lib/python3/dist-packages (from stein_thinning==1.1) (1.10.1)\n",
      "Note: you may need to restart the kernel to use updated packages.\n"
     ]
    }
   ],
   "source": [
    "pip install git+https://github.com/wilson-ye-chen/stein_thinning"
   ]
  },
  {
   "cell_type": "code",
   "execution_count": 5,
   "metadata": {},
   "outputs": [
    {
     "name": "stdout",
     "output_type": "stream",
     "text": [
      "Defaulting to user installation because normal site-packages is not writeable\n",
      "Requirement already satisfied: pystan in /home/shlok/.local/lib/python3.11/site-packages (3.9.1)\n",
      "Requirement already satisfied: aiohttp<4.0,>=3.6 in /home/shlok/.local/lib/python3.11/site-packages (from pystan) (3.9.5)\n",
      "Requirement already satisfied: clikit<0.7,>=0.6 in /home/shlok/.local/lib/python3.11/site-packages (from pystan) (0.6.2)\n",
      "Requirement already satisfied: httpstan<4.13,>=4.12 in /home/shlok/.local/lib/python3.11/site-packages (from pystan) (4.12.0)\n",
      "Requirement already satisfied: numpy<2.0,>=1.19 in /usr/lib/python3/dist-packages (from pystan) (1.24.2)\n",
      "Requirement already satisfied: pysimdjson<7,>=5.0.2 in /home/shlok/.local/lib/python3.11/site-packages (from pystan) (6.0.2)\n",
      "Requirement already satisfied: setuptools in /home/shlok/.local/lib/python3.11/site-packages (from pystan) (69.0.3)\n",
      "Requirement already satisfied: aiosignal>=1.1.2 in /home/shlok/.local/lib/python3.11/site-packages (from aiohttp<4.0,>=3.6->pystan) (1.3.1)\n",
      "Requirement already satisfied: attrs>=17.3.0 in /usr/lib/python3/dist-packages (from aiohttp<4.0,>=3.6->pystan) (22.2.0)\n",
      "Requirement already satisfied: frozenlist>=1.1.1 in /home/shlok/.local/lib/python3.11/site-packages (from aiohttp<4.0,>=3.6->pystan) (1.4.1)\n",
      "Requirement already satisfied: multidict<7.0,>=4.5 in /home/shlok/.local/lib/python3.11/site-packages (from aiohttp<4.0,>=3.6->pystan) (6.0.5)\n",
      "Requirement already satisfied: yarl<2.0,>=1.0 in /home/shlok/.local/lib/python3.11/site-packages (from aiohttp<4.0,>=3.6->pystan) (1.9.4)\n",
      "Requirement already satisfied: crashtest<0.4.0,>=0.3.0 in /home/shlok/.local/lib/python3.11/site-packages (from clikit<0.7,>=0.6->pystan) (0.3.1)\n",
      "Requirement already satisfied: pastel<0.3.0,>=0.2.0 in /home/shlok/.local/lib/python3.11/site-packages (from clikit<0.7,>=0.6->pystan) (0.2.1)\n",
      "Requirement already satisfied: pylev<2.0,>=1.3 in /home/shlok/.local/lib/python3.11/site-packages (from clikit<0.7,>=0.6->pystan) (1.4.0)\n",
      "Requirement already satisfied: appdirs<2.0,>=1.4 in /usr/lib/python3/dist-packages (from httpstan<4.13,>=4.12->pystan) (1.4.4)\n",
      "Requirement already satisfied: marshmallow<4.0,>=3.10 in /home/shlok/.local/lib/python3.11/site-packages (from httpstan<4.13,>=4.12->pystan) (3.21.2)\n",
      "Requirement already satisfied: webargs<9.0,>=8.0 in /home/shlok/.local/lib/python3.11/site-packages (from httpstan<4.13,>=4.12->pystan) (8.4.0)\n",
      "Requirement already satisfied: packaging>=17.0 in /usr/lib/python3/dist-packages (from marshmallow<4.0,>=3.10->httpstan<4.13,>=4.12->pystan) (23.0)\n",
      "Requirement already satisfied: idna>=2.0 in /usr/lib/python3/dist-packages (from yarl<2.0,>=1.0->aiohttp<4.0,>=3.6->pystan) (3.3)\n"
     ]
    }
   ],
   "source": []
  },
  {
   "cell_type": "code",
   "execution_count": 9,
   "metadata": {},
   "outputs": [
    {
     "name": "stdout",
     "output_type": "stream",
     "text": [
      "Building..."
     ]
    },
    {
     "name": "stderr",
     "output_type": "stream",
     "text": [
      "In file included from /home/shlok/.local/lib/python3.11/site-packages/httpstan/include/boost/multi_array/multi_array_ref.hpp:32,\n",
      "                 from /home/shlok/.local/lib/python3.11/site-packages/httpstan/include/boost/multi_array.hpp:34,\n",
      "                 from /home/shlok/.local/lib/python3.11/site-packages/httpstan/include/boost/numeric/odeint/algebra/multi_array_algebra.hpp:22,\n",
      "                 from /home/shlok/.local/lib/python3.11/site-packages/httpstan/include/boost/numeric/odeint.hpp:63,\n",
      "                 from /home/shlok/.local/lib/python3.11/site-packages/httpstan/include/stan/math/prim/functor/ode_rk45.hpp:9,\n",
      "                 from /home/shlok/.local/lib/python3.11/site-packages/httpstan/include/stan/math/prim/functor/integrate_ode_rk45.hpp:6,\n",
      "                 from /home/shlok/.local/lib/python3.11/site-packages/httpstan/include/stan/math/prim/functor.hpp:16,\n",
      "                 from /home/shlok/.local/lib/python3.11/site-packages/httpstan/include/stan/math/rev/fun.hpp:200,\n",
      "                 from /home/shlok/.local/lib/python3.11/site-packages/httpstan/include/stan/math/rev.hpp:12,\n",
      "                 from /home/shlok/.local/lib/python3.11/site-packages/httpstan/include/stan/math.hpp:19,\n",
      "                 from /home/shlok/.local/lib/python3.11/site-packages/httpstan/include/stan/model/model_header.hpp:4,\n",
      "                 from /home/shlok/.cache/httpstan/4.12.0/models/5s4lhlml/model_5s4lhlml.cpp:2:\n",
      "/home/shlok/.local/lib/python3.11/site-packages/httpstan/include/boost/functional.hpp:180:45: warning: ‘template<class _Arg, class _Result> struct std::unary_function’ is deprecated [-Wdeprecated-declarations]\n",
      "  180 |         : public boost::functional::detail::unary_function<typename unary_traits<Predicate>::argument_type,bool>\n",
      "      |                                             ^~~~~~~~~~~~~~\n",
      "In file included from /usr/include/c++/12/string:48,\n",
      "                 from /usr/include/c++/12/bits/locale_classes.h:40,\n",
      "                 from /usr/include/c++/12/bits/ios_base.h:41,\n",
      "                 from /usr/include/c++/12/ios:42,\n",
      "                 from /usr/include/c++/12/istream:38,\n",
      "                 from /usr/include/c++/12/sstream:38,\n",
      "                 from /usr/include/c++/12/complex:45,\n",
      "                 from /home/shlok/.local/lib/python3.11/site-packages/httpstan/include/Eigen/Core:50,\n",
      "                 from /home/shlok/.local/lib/python3.11/site-packages/httpstan/include/Eigen/Dense:1,\n",
      "                 from /home/shlok/.local/lib/python3.11/site-packages/httpstan/include/stan/math/prim/fun/Eigen.hpp:22,\n",
      "                 from /home/shlok/.local/lib/python3.11/site-packages/httpstan/include/stan/math/rev.hpp:4:\n",
      "/usr/include/c++/12/bits/stl_function.h:117:12: note: declared here\n",
      "  117 |     struct unary_function\n",
      "      |            ^~~~~~~~~~~~~~\n",
      "/home/shlok/.local/lib/python3.11/site-packages/httpstan/include/boost/functional.hpp:214:45: warning: ‘template<class _Arg1, class _Arg2, class _Result> struct std::binary_function’ is deprecated [-Wdeprecated-declarations]\n",
      "  214 |         : public boost::functional::detail::binary_function<\n",
      "      |                                             ^~~~~~~~~~~~~~~\n",
      "/usr/include/c++/12/bits/stl_function.h:131:12: note: declared here\n",
      "  131 |     struct binary_function\n",
      "      |            ^~~~~~~~~~~~~~~\n",
      "/home/shlok/.local/lib/python3.11/site-packages/httpstan/include/boost/functional.hpp:252:45: warning: ‘template<class _Arg, class _Result> struct std::unary_function’ is deprecated [-Wdeprecated-declarations]\n",
      "  252 |         : public boost::functional::detail::unary_function<\n",
      "      |                                             ^~~~~~~~~~~~~~\n",
      "/usr/include/c++/12/bits/stl_function.h:117:12: note: declared here\n",
      "  117 |     struct unary_function\n",
      "      |            ^~~~~~~~~~~~~~\n",
      "/home/shlok/.local/lib/python3.11/site-packages/httpstan/include/boost/functional.hpp:299:45: warning: ‘template<class _Arg, class _Result> struct std::unary_function’ is deprecated [-Wdeprecated-declarations]\n",
      "  299 |         : public boost::functional::detail::unary_function<\n",
      "      |                                             ^~~~~~~~~~~~~~\n",
      "/usr/include/c++/12/bits/stl_function.h:117:12: note: declared here\n",
      "  117 |     struct unary_function\n",
      "      |            ^~~~~~~~~~~~~~\n",
      "/home/shlok/.local/lib/python3.11/site-packages/httpstan/include/boost/functional.hpp:345:57: warning: ‘template<class _Arg, class _Result> struct std::unary_function’ is deprecated [-Wdeprecated-declarations]\n",
      "  345 |     class mem_fun_t : public boost::functional::detail::unary_function<T*, S>\n",
      "      |                                                         ^~~~~~~~~~~~~~\n",
      "/usr/include/c++/12/bits/stl_function.h:117:12: note: declared here\n",
      "  117 |     struct unary_function\n",
      "      |            ^~~~~~~~~~~~~~\n",
      "/home/shlok/.local/lib/python3.11/site-packages/httpstan/include/boost/functional.hpp:361:58: warning: ‘template<class _Arg1, class _Arg2, class _Result> struct std::binary_function’ is deprecated [-Wdeprecated-declarations]\n",
      "  361 |     class mem_fun1_t : public boost::functional::detail::binary_function<T*, A, S>\n",
      "      |                                                          ^~~~~~~~~~~~~~~\n",
      "/usr/include/c++/12/bits/stl_function.h:131:12: note: declared here\n",
      "  131 |     struct binary_function\n",
      "      |            ^~~~~~~~~~~~~~~\n",
      "/home/shlok/.local/lib/python3.11/site-packages/httpstan/include/boost/functional.hpp:377:63: warning: ‘template<class _Arg, class _Result> struct std::unary_function’ is deprecated [-Wdeprecated-declarations]\n",
      "  377 |     class const_mem_fun_t : public boost::functional::detail::unary_function<const T*, S>\n",
      "      |                                                               ^~~~~~~~~~~~~~\n",
      "/usr/include/c++/12/bits/stl_function.h:117:12: note: declared here\n",
      "  117 |     struct unary_function\n",
      "      |            ^~~~~~~~~~~~~~\n",
      "/home/shlok/.local/lib/python3.11/site-packages/httpstan/include/boost/functional.hpp:393:64: warning: ‘template<class _Arg1, class _Arg2, class _Result> struct std::binary_function’ is deprecated [-Wdeprecated-declarations]\n",
      "  393 |     class const_mem_fun1_t : public boost::functional::detail::binary_function<const T*, A, S>\n",
      "      |                                                                ^~~~~~~~~~~~~~~\n",
      "/usr/include/c++/12/bits/stl_function.h:131:12: note: declared here\n",
      "  131 |     struct binary_function\n",
      "      |            ^~~~~~~~~~~~~~~\n",
      "/home/shlok/.local/lib/python3.11/site-packages/httpstan/include/boost/functional.hpp:438:61: warning: ‘template<class _Arg, class _Result> struct std::unary_function’ is deprecated [-Wdeprecated-declarations]\n",
      "  438 |     class mem_fun_ref_t : public boost::functional::detail::unary_function<T&, S>\n",
      "      |                                                             ^~~~~~~~~~~~~~\n",
      "/usr/include/c++/12/bits/stl_function.h:117:12: note: declared here\n",
      "  117 |     struct unary_function\n",
      "      |            ^~~~~~~~~~~~~~\n",
      "/home/shlok/.local/lib/python3.11/site-packages/httpstan/include/boost/functional.hpp:454:62: warning: ‘template<class _Arg1, class _Arg2, class _Result> struct std::binary_function’ is deprecated [-Wdeprecated-declarations]\n",
      "  454 |     class mem_fun1_ref_t : public boost::functional::detail::binary_function<T&, A, S>\n",
      "      |                                                              ^~~~~~~~~~~~~~~\n",
      "/usr/include/c++/12/bits/stl_function.h:131:12: note: declared here\n",
      "  131 |     struct binary_function\n",
      "      |            ^~~~~~~~~~~~~~~\n",
      "/home/shlok/.local/lib/python3.11/site-packages/httpstan/include/boost/functional.hpp:470:67: warning: ‘template<class _Arg, class _Result> struct std::unary_function’ is deprecated [-Wdeprecated-declarations]\n",
      "  470 |     class const_mem_fun_ref_t : public boost::functional::detail::unary_function<const T&, S>\n",
      "      |                                                                   ^~~~~~~~~~~~~~\n",
      "/usr/include/c++/12/bits/stl_function.h:117:12: note: declared here\n",
      "  117 |     struct unary_function\n",
      "      |            ^~~~~~~~~~~~~~\n",
      "/home/shlok/.local/lib/python3.11/site-packages/httpstan/include/boost/functional.hpp:487:68: warning: ‘template<class _Arg1, class _Arg2, class _Result> struct std::binary_function’ is deprecated [-Wdeprecated-declarations]\n",
      "  487 |     class const_mem_fun1_ref_t : public boost::functional::detail::binary_function<const T&, A, S>\n",
      "      |                                                                    ^~~~~~~~~~~~~~~\n",
      "/usr/include/c++/12/bits/stl_function.h:131:12: note: declared here\n",
      "  131 |     struct binary_function\n",
      "      |            ^~~~~~~~~~~~~~~\n",
      "/home/shlok/.local/lib/python3.11/site-packages/httpstan/include/boost/functional.hpp:533:73: warning: ‘template<class _Arg, class _Result> struct std::unary_function’ is deprecated [-Wdeprecated-declarations]\n",
      "  533 |     class pointer_to_unary_function : public boost::functional::detail::unary_function<Arg,Result>\n",
      "      |                                                                         ^~~~~~~~~~~~~~\n",
      "/usr/include/c++/12/bits/stl_function.h:117:12: note: declared here\n",
      "  117 |     struct unary_function\n",
      "      |            ^~~~~~~~~~~~~~\n",
      "/home/shlok/.local/lib/python3.11/site-packages/httpstan/include/boost/functional.hpp:557:74: warning: ‘template<class _Arg1, class _Arg2, class _Result> struct std::binary_function’ is deprecated [-Wdeprecated-declarations]\n",
      "  557 |     class pointer_to_binary_function : public boost::functional::detail::binary_function<Arg1,Arg2,Result>\n",
      "      |                                                                          ^~~~~~~~~~~~~~~\n",
      "/usr/include/c++/12/bits/stl_function.h:131:12: note: declared here\n",
      "  131 |     struct binary_function\n",
      "      |            ^~~~~~~~~~~~~~~\n"
     ]
    },
    {
     "name": "stdout",
     "output_type": "stream",
     "text": [
      "\n"
     ]
    },
    {
     "name": "stderr",
     "output_type": "stream",
     "text": [
      "\n",
      "Building: 31.0s, done."
     ]
    },
    {
     "ename": "TypeError",
     "evalue": "object Model can't be used in 'await' expression",
     "output_type": "error",
     "traceback": [
      "\u001b[0;31m---------------------------------------------------------------------------\u001b[0m",
      "\u001b[0;31mTypeError\u001b[0m                                 Traceback (most recent call last)",
      "Cell \u001b[0;32mIn [9], line 10\u001b[0m\n\u001b[1;32m      3\u001b[0m nest_asyncio\u001b[38;5;241m.\u001b[39mapply()\n\u001b[1;32m      5\u001b[0m mc \u001b[38;5;241m=\u001b[39m \u001b[38;5;124m\"\"\"\u001b[39m\n\u001b[1;32m      6\u001b[0m \u001b[38;5;124mparameters \u001b[39m\u001b[38;5;124m{\u001b[39m\u001b[38;5;124mvector[2] x;}\u001b[39m\n\u001b[1;32m      7\u001b[0m \u001b[38;5;124mmodel \u001b[39m\u001b[38;5;124m{\u001b[39m\u001b[38;5;124mx ~ multi_normal([0, 0], [[1, 0.8], [0.8, 1]]);}\u001b[39m\n\u001b[1;32m      8\u001b[0m \u001b[38;5;124m\"\"\"\u001b[39m\n\u001b[0;32m---> 10\u001b[0m posterior \u001b[38;5;241m=\u001b[39m \u001b[38;5;28;01mawait\u001b[39;00m stan\u001b[38;5;241m.\u001b[39mbuild(mc)\n\u001b[1;32m     11\u001b[0m fit \u001b[38;5;241m=\u001b[39m posterior\u001b[38;5;241m.\u001b[39msample(num_chains\u001b[38;5;241m=\u001b[39m\u001b[38;5;241m4\u001b[39m, num_samples\u001b[38;5;241m=\u001b[39m\u001b[38;5;241m1000\u001b[39m)\n\u001b[1;32m     12\u001b[0m \u001b[38;5;28mprint\u001b[39m(fit)\n",
      "\u001b[0;31mTypeError\u001b[0m: object Model can't be used in 'await' expression"
     ]
    }
   ],
   "source": []
  }
 ],
 "metadata": {
  "kernelspec": {
   "display_name": "Python 3",
   "language": "python",
   "name": "python3"
  },
  "language_info": {
   "codemirror_mode": {
    "name": "ipython",
    "version": 3
   },
   "file_extension": ".py",
   "mimetype": "text/x-python",
   "name": "python",
   "nbconvert_exporter": "python",
   "pygments_lexer": "ipython3",
   "version": "3.11.4"
  }
 },
 "nbformat": 4,
 "nbformat_minor": 2
}
